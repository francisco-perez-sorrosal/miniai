{
  "nbformat": 4,
  "nbformat_minor": 0,
  "metadata": {
    "colab": {
      "private_outputs": true,
      "provenance": [],
      "gpuType": "T4",
      "authorship_tag": "ABX9TyMgS/xdRxXxNjnHrE8R/RvM",
      "include_colab_link": true
    },
    "kernelspec": {
      "name": "python3",
      "display_name": "Python 3"
    },
    "language_info": {
      "name": "python"
    },
    "accelerator": "GPU",
    "gpuClass": "standard"
  },
  "cells": [
    {
      "cell_type": "markdown",
      "metadata": {
        "id": "view-in-github",
        "colab_type": "text"
      },
      "source": [
        "<a href=\"https://colab.research.google.com/github/francisco-perez-sorrosal/miniai/blob/main/VAE.ipynb\" target=\"_parent\"><img src=\"https://colab.research.google.com/assets/colab-badge.svg\" alt=\"Open In Colab\"/></a>"
      ]
    },
    {
      "cell_type": "code",
      "execution_count": null,
      "metadata": {
        "id": "FAMl3uzZP6CM"
      },
      "outputs": [],
      "source": [
        "import math\n",
        "import random, os\n",
        "import numpy as np\n",
        "\n",
        "import torch\n",
        "import torchvision\n",
        "import torch.nn as nn\n",
        "import torch.nn.functional as F\n",
        "import torch.optim as optim\n",
        "\n",
        "import matplotlib.pyplot as plt\n",
        "\n",
        "def seeder(seed):\n",
        "    random.seed(seed)\n",
        "    os.environ['PYTHONHASHSEED'] = str(seed)\n",
        "    np.random.seed(seed)\n",
        "    torch.manual_seed(seed)\n",
        "    torch.cuda.manual_seed(seed)\n",
        "    torch.backends.cudnn.deterministic = True\n",
        "    torch.backends.cudnn.benchmark = True\n",
        "    \n",
        "seeder(42)"
      ]
    },
    {
      "cell_type": "code",
      "source": [
        "batch_size_train = 64\n",
        "batch_size_test = 1000\n",
        "\n",
        "train_loader = torch.utils.data.DataLoader(\n",
        "  torchvision.datasets.MNIST('/files/', train=True, download=True,\n",
        "                             transform=torchvision.transforms.Compose([\n",
        "                               torchvision.transforms.ToTensor(),\n",
        "                               torchvision.transforms.Normalize(\n",
        "                                 (0.1307,), (0.3081,))\n",
        "                             ])),\n",
        "  batch_size=batch_size_train, shuffle=True)"
      ],
      "metadata": {
        "id": "cR86XZ3FQx5Y"
      },
      "execution_count": null,
      "outputs": []
    },
    {
      "cell_type": "code",
      "source": [
        "examples = enumerate(train_loader)\n",
        "batch_idx, (example_data, example_targets) = next(examples)"
      ],
      "metadata": {
        "id": "A95JNguRSP2o"
      },
      "execution_count": null,
      "outputs": []
    },
    {
      "cell_type": "code",
      "source": [
        "def display_digits_grid(images, grid_size, example_targets=None):\n",
        "  n_grid_rows, n_grid_cols = grid_size\n",
        "\n",
        "  # Select images to present\n",
        "  num_images_to_present = n_grid_rows * n_grid_cols\n",
        "  images = images[:num_images_to_present]\n",
        "\n",
        "  # Create a figure with subplots\n",
        "  fig, axs = plt.subplots(n_grid_rows, n_grid_cols, figsize=(n_grid_cols, n_grid_rows),\n",
        "                          subplot_kw={'xticks': [], 'yticks': []})\n",
        "\n",
        "  axs = axs.flat  # Flatten the array of axes\n",
        "\n",
        "  # Plot each image in its respective subplot\n",
        "  for i, ax in enumerate(axs):\n",
        "    ax.imshow(images[i][0], cmap='gray', interpolation=\"none\")\n",
        "    if example_targets is not None:\n",
        "      ax.text(0, 0.8, f\"GT: {str(example_targets[i].item())}\", transform=ax.transAxes, color=\"yellow\")\n",
        "\n",
        "  plt.show()\n",
        "\n",
        "display_digits_grid(example_data, grid_size=(4, 10), example_targets=example_targets)"
      ],
      "metadata": {
        "id": "DjvqRJRTSZMp"
      },
      "execution_count": null,
      "outputs": []
    },
    {
      "cell_type": "code",
      "source": [
        "class DenseLayer(nn.Module):\n",
        "    def __init__(self, input_size, output_size, activation_f=nn.functional.elu):\n",
        "      super(DenseLayer, self).__init__()\n",
        "      self.fc = nn.Linear(input_size, output_size)\n",
        "      self.activation_f = activation_f\n",
        "      self.bn = nn.BatchNorm1d(output_size)\n",
        "\n",
        "    def forward(self, x):\n",
        "      x = self.fc(x)\n",
        "      x = self.bn(x)\n",
        "      if self.activation_f:\n",
        "        x = self.activation_f(x)\n",
        "      return x\n",
        "\n",
        "class VAE(nn.Module):\n",
        "    def __init__(self, input_size, n_outputs):\n",
        "      super(VAE, self).__init__()\n",
        "      d1_size = 400\n",
        "      d2_size = 400\n",
        "      latent_size = 20\n",
        "      self.hidden1 = DenseLayer(input_size, d1_size, activation_f=nn.functional.relu)      \n",
        "      self.hidden2 = DenseLayer(d1_size, d2_size, activation_f=nn.functional.relu)\n",
        "      self.hidden3_mean = DenseLayer(d1_size, latent_size, None)\n",
        "      self.hidden3_gamma = DenseLayer(d1_size, latent_size, None)\n",
        "      self.hidden4 = DenseLayer(latent_size, d2_size, activation_f=nn.functional.relu)\n",
        "      self.hidden5 = DenseLayer(d2_size, d1_size, activation_f=nn.functional.relu)\n",
        "      self.output = DenseLayer(d1_size, n_outputs, None)\n",
        "\n",
        "    def encode(self, x):\n",
        "        x = self.hidden1(x)\n",
        "        x = self.hidden2(x)\n",
        "        mu = self.hidden3_mean(x)\n",
        "        gamma = self.hidden3_gamma(x)\n",
        "        return mu, gamma\n",
        "\n",
        "    def reparametrize(self, mu, gamma):\n",
        "        std = torch.exp(0.5*gamma)\n",
        "        noise = torch.randn_like(std)\n",
        "        return mu + std * noise\n",
        "\n",
        "    def decode(self, x):\n",
        "        x = self.hidden4(x)\n",
        "        x = self.hidden5(x)\n",
        "        logits = self.output(x)\n",
        "        return logits, F.sigmoid(logits)\n",
        "\n",
        "    def forward(self, x):\n",
        "        x_reshaped = x.view(x.shape[0], -1)\n",
        "        mu, gamma = self.encode(x_reshaped)\n",
        "        z = self.reparametrize(mu, gamma)\n",
        "        # print(z.shape, z)\n",
        "        # sys.exit(1)\n",
        "        logits, sigmoid = self.decode(z)\n",
        "        return logits, sigmoid, mu, gamma\n"
      ],
      "metadata": {
        "id": "rmlb2CtbScwF"
      },
      "execution_count": null,
      "outputs": []
    },
    {
      "cell_type": "code",
      "source": [
        "device = torch.device(\"cuda:0\")\n",
        "print(device)\n",
        "model = VAE(28 * 28, 28 * 28)\n",
        "model = model.to(device)\n",
        "\n",
        "optimizer = optim.Adam(model.parameters(), lr=0.001)\n",
        "\n",
        "train_losses = []\n",
        "train_counter = []\n",
        "log_interval = 100\n",
        "\n",
        "def vae_loss_function(recon_x, x, mu, gamma):\n",
        "  BCE_reconstruction_loss = F.binary_cross_entropy(recon_x, x, reduction='sum')\n",
        "  KLD_latent_loss = -0.5 * torch.sum(1 + gamma - mu.pow(2) - gamma.exp())\n",
        "\n",
        "  return BCE_reconstruction_loss + KLD_latent_loss\n",
        "\n",
        "torch.set_printoptions(threshold=10_000)\n",
        "torch.set_printoptions(profile=\"full\")\n",
        "\n",
        "def train(epoch):\n",
        "  model.train()\n",
        "  train_loss = 0.0\n",
        "  for batch_idx, (data, target) in enumerate(train_loader):\n",
        "    optimizer.zero_grad()\n",
        "    data=data.to(device)\n",
        "    logits, sigmoid_outputs, hidden_mean, hidden_gamma = model(data)\n",
        "    # print(\"here\", logits.shape, sigmoid_outputs.shape)\n",
        "\n",
        "    # print(data.shape)\n",
        "    # print(data.view(data.shape[0], -1))\n",
        "\n",
        "    loss = vae_loss_function(sigmoid_outputs, data.view(data.shape[0],-1), hidden_gamma, hidden_gamma)\n",
        "    loss.backward()\n",
        "    train_losses.append(loss.item())\n",
        "    train_loss += loss.item()\n",
        "    optimizer.step()\n",
        "\n",
        "    if batch_idx % log_interval == 0:\n",
        "      print(f'Train Epoch: {epoch} [{batch_idx * len(data)}/{len(train_loader.dataset)} ({(100. * batch_idx / len(train_loader)):.0f}%)]\\tLoss: {loss.item():.6f}')\n",
        "      train_counter.append((batch_idx*64) + ((epoch-1)*len(train_loader.dataset)))\n",
        "      print('====> Epoch: {} Average loss: {:.4f}'.format(\n",
        "            epoch, train_loss / len(train_loader.dataset)))\n"
      ],
      "metadata": {
        "id": "r11HPcGuH6e3"
      },
      "execution_count": null,
      "outputs": []
    },
    {
      "cell_type": "code",
      "source": [
        "optimizer = optim.Adam(model.parameters(), lr=0.001)\n",
        "epochs=2\n",
        "for epoch in range(1, epochs + 1):\n",
        "  train(epoch)"
      ],
      "metadata": {
        "id": "Tq1iFN0weze8"
      },
      "execution_count": null,
      "outputs": []
    },
    {
      "cell_type": "code",
      "source": [
        "n_digits = 20\n",
        "codings_rnd = torch.randn((n_digits,20), dtype=torch.float32, device=device)\n",
        "gen_numbers, gen_numbers_sig = model.decode(codings_rnd)\n",
        "gen_numbers = gen_numbers_sig.reshape(n_digits, 1, 28, 28)\n",
        "display_digits_grid(gen_numbers.detach().cpu().numpy(), grid_size=(2, 10), example_targets=None)"
      ],
      "metadata": {
        "id": "nTo6uDPQ5IOa"
      },
      "execution_count": null,
      "outputs": []
    },
    {
      "cell_type": "code",
      "source": [],
      "metadata": {
        "id": "gq6-qXEB3Lz3"
      },
      "execution_count": null,
      "outputs": []
    }
  ]
}